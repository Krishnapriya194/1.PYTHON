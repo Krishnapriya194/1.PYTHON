{
 "cells": [
  {
   "cell_type": "code",
   "execution_count": 9,
   "metadata": {},
   "outputs": [],
   "source": [
    "class SUBFIELDSAI():\n",
    "    def subfieldsAI():\n",
    "        lists=['Machine Learning','Neural Networks','Vision','Robotics','Speech processing','Natural Language Processing']\n",
    "        print(\"Sub fields in AI are:\")\n",
    "        for i in lists:\n",
    "                print(i)\n",
    "\n"
   ]
  },
  {
   "cell_type": "code",
   "execution_count": 10,
   "metadata": {},
   "outputs": [
    {
     "name": "stdout",
     "output_type": "stream",
     "text": [
      "Sub fields in AI are:\n",
      "Machine Learning\n",
      "Neural Networks\n",
      "Vision\n",
      "Robotics\n",
      "Speech processing\n",
      "Natural Language Processing\n"
     ]
    }
   ],
   "source": [
    "SUBFIELDSAI.subfieldsAI()"
   ]
  },
  {
   "cell_type": "code",
   "execution_count": 15,
   "metadata": {},
   "outputs": [],
   "source": [
    "class ODDEVEN():\n",
    "    def oddeven():\n",
    "        NUM=int(input(\"Enter a number:\"))\n",
    "        if((NUM%2)==1):\n",
    "            print(NUM,\"is odd number\")\n",
    "        else:\n",
    "            print(NUM, \"is even number\")\n",
    "\n",
    "\n",
    "    "
   ]
  },
  {
   "cell_type": "code",
   "execution_count": 17,
   "metadata": {},
   "outputs": [
    {
     "name": "stdout",
     "output_type": "stream",
     "text": [
      "Enter a number:52452\n",
      "52452 is even number\n"
     ]
    }
   ],
   "source": [
    "ODDEVEN.oddeven()\n"
   ]
  },
  {
   "cell_type": "code",
   "execution_count": 31,
   "metadata": {},
   "outputs": [],
   "source": [
    "class ELIGIBLE():\n",
    "    def eligible():\n",
    "        gender=input(\"Your gender:\")\n",
    "        age=int(input(\"Youe Age:\"))\n",
    "        if(gender=='male'):\n",
    "            if (age>21):\n",
    "                print(\"ELIGIBLE\")\n",
    "            else:\n",
    "                print(\"NOT ELIGIBLE\")\n",
    "        elif(gender==\"female\"):\n",
    "            if(age>18):\n",
    "                print(\"ELIGIBLE\")\n",
    "            else:\n",
    "                print('NOT ELIGIBLE')\n",
    "\n",
    "\n",
    "\n",
    "    \n"
   ]
  },
  {
   "cell_type": "code",
   "execution_count": 32,
   "metadata": {},
   "outputs": [
    {
     "name": "stdout",
     "output_type": "stream",
     "text": [
      "Your gender:male\n",
      "Youe Age:20\n",
      "NOT ELIGIBLE\n"
     ]
    }
   ],
   "source": [
    "ELIGIBLE.eligible()"
   ]
  },
  {
   "cell_type": "code",
   "execution_count": 34,
   "metadata": {},
   "outputs": [],
   "source": [
    "class PERCENTAGE():\n",
    "    def percentage():\n",
    "        sub1= int(input(\"Subject1=\"))\n",
    "        sub2= int(input(\"Subject2=\"))\n",
    "        sub3= int(input(\"Subject3=\"))\n",
    "        sub4= int(input(\"Subject4=\"))\n",
    "        sub5= int(input(\"Subject5=\"))\n",
    "        total=sub1+sub2+sub3+sub4+sub5\n",
    "        percentage=(total/500)*100\n",
    "        print(\"Total=\",total)\n",
    "        print(\"Percentage=\",percentage)"
   ]
  },
  {
   "cell_type": "code",
   "execution_count": 35,
   "metadata": {},
   "outputs": [
    {
     "name": "stdout",
     "output_type": "stream",
     "text": [
      "Subject1=98\n",
      "Subject2=87\n",
      "Subject3=95\n",
      "Subject4=95\n",
      "Subject5=93\n",
      "Total= 468\n",
      "Percentage= 93.60000000000001\n"
     ]
    }
   ],
   "source": [
    "PERCENTAGE.percentage()"
   ]
  },
  {
   "cell_type": "code",
   "execution_count": 36,
   "metadata": {},
   "outputs": [],
   "source": [
    "class trianglecalculation():\n",
    "    def triangle():\n",
    "        height=int(input(\"Height:\"))\n",
    "        breadth=int(input(\"Breadth:\"))\n",
    "        print(\"Area formula:(Height*Breadth)/2\")\n",
    "        area=(height*breadth)/2\n",
    "        print(\"Area of Triangle:\",area)\n",
    "        height1=int(input(\"Height1:\"))\n",
    "        height2=int(input(\"Height2:\"))\n",
    "        breadth1=int(input(\"Breadth:\"))\n",
    "        print(\"Perimeter Formula:Height1+Height2+Breadth\")\n",
    "        perimeter=height1+height2+breadth1\n",
    "        print(\"Perimeter of Triangle:\",perimeter)"
   ]
  },
  {
   "cell_type": "code",
   "execution_count": 37,
   "metadata": {},
   "outputs": [
    {
     "name": "stdout",
     "output_type": "stream",
     "text": [
      "Height:32\n",
      "Breadth:34\n",
      "Area formula:(Height*Breadth)/2\n",
      "Area of Triangle: 544.0\n",
      "Height1:2\n",
      "Height2:4\n",
      "Breadth:4\n",
      "Perimeter Formula:Height1+Height2+Breadth\n",
      "Perimeter of Triangle: 10\n"
     ]
    }
   ],
   "source": [
    "trianglecalculation.triangle()"
   ]
  },
  {
   "cell_type": "code",
   "execution_count": null,
   "metadata": {},
   "outputs": [],
   "source": []
  }
 ],
 "metadata": {
  "kernelspec": {
   "display_name": "Python 3",
   "language": "python",
   "name": "python3"
  },
  "language_info": {
   "codemirror_mode": {
    "name": "ipython",
    "version": 3
   },
   "file_extension": ".py",
   "mimetype": "text/x-python",
   "name": "python",
   "nbconvert_exporter": "python",
   "pygments_lexer": "ipython3",
   "version": "3.7.4"
  }
 },
 "nbformat": 4,
 "nbformat_minor": 2
}
